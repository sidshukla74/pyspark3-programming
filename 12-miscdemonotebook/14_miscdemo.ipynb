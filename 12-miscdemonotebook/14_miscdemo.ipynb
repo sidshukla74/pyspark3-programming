{
  "nbformat": 4,
  "nbformat_minor": 0,
  "metadata": {
    "colab": {
      "name": "14-miscdemo.ipynb",
      "provenance": []
    },
    "kernelspec": {
      "name": "python3",
      "display_name": "Python 3"
    },
    "language_info": {
      "name": "python"
    }
  },
  "cells": [
    {
      "cell_type": "code",
      "source": [
        "!pip install pyspark"
      ],
      "metadata": {
        "colab": {
          "base_uri": "https://localhost:8080/"
        },
        "id": "s5v0AEQ1nX2t",
        "outputId": "71e0b9c1-504b-4a52-845c-e86192363d04"
      },
      "execution_count": 1,
      "outputs": [
        {
          "output_type": "stream",
          "name": "stdout",
          "text": [
            "Looking in indexes: https://pypi.org/simple, https://us-python.pkg.dev/colab-wheels/public/simple/\n",
            "Collecting pyspark\n",
            "  Downloading pyspark-3.3.0.tar.gz (281.3 MB)\n",
            "\u001b[K     |████████████████████████████████| 281.3 MB 33 kB/s \n",
            "\u001b[?25hCollecting py4j==0.10.9.5\n",
            "  Downloading py4j-0.10.9.5-py2.py3-none-any.whl (199 kB)\n",
            "\u001b[K     |████████████████████████████████| 199 kB 44.8 MB/s \n",
            "\u001b[?25hBuilding wheels for collected packages: pyspark\n",
            "  Building wheel for pyspark (setup.py) ... \u001b[?25l\u001b[?25hdone\n",
            "  Created wheel for pyspark: filename=pyspark-3.3.0-py2.py3-none-any.whl size=281764026 sha256=3fe5a3e47bddd2da3e60b4cc58a729d94491aa346ca7f2cf578923e19ed3faa8\n",
            "  Stored in directory: /root/.cache/pip/wheels/7a/8e/1b/f73a52650d2e5f337708d9f6a1750d451a7349a867f928b885\n",
            "Successfully built pyspark\n",
            "Installing collected packages: py4j, pyspark\n",
            "Successfully installed py4j-0.10.9.5 pyspark-3.3.0\n"
          ]
        }
      ]
    },
    {
      "cell_type": "code",
      "execution_count": 2,
      "metadata": {
        "id": "TtXeFejvnQOi"
      },
      "outputs": [],
      "source": [
        "from pyspark.sql import SparkSession\n",
        "from pyspark.sql.functions import col, monotonically_increasing_id, when , expr\n",
        "from pyspark.sql.types import * \n"
      ]
    },
    {
      "cell_type": "code",
      "source": [
        "data_list = [(\"Ravi\", \"28\", \"1\", \"2002\"),\n",
        "                 (\"Abdul\", \"23\", \"5\", \"81\"),  # 1981\n",
        "                 (\"John\", \"12\", \"12\", \"6\"),  # 2006\n",
        "                 (\"Rosy\", \"7\", \"8\", \"63\"),  # 1963\n",
        "                 (\"Abdul\", \"23\", \"5\", \"81\")] "
      ],
      "metadata": {
        "id": "MPbtn6zso1QJ"
      },
      "execution_count": 3,
      "outputs": []
    },
    {
      "cell_type": "code",
      "source": [
        "spark = SparkSession.builder.appName('Misc Demo').master('local[2]').getOrCreate()"
      ],
      "metadata": {
        "id": "Z6YZBPhvpE1b"
      },
      "execution_count": 7,
      "outputs": []
    },
    {
      "cell_type": "code",
      "source": [
        "raw_df = spark.createDataFrame(data_list).toDF(\"name\", 'day', 'month', 'year')\\\n",
        ".repartition(3)"
      ],
      "metadata": {
        "id": "sv5v1V5Mo34p"
      },
      "execution_count": 8,
      "outputs": []
    },
    {
      "cell_type": "code",
      "source": [
        "raw_df.printSchema()"
      ],
      "metadata": {
        "colab": {
          "base_uri": "https://localhost:8080/"
        },
        "id": "g9nmcwbopDLl",
        "outputId": "8425dbda-d0ec-4da5-9de7-696246b21d80"
      },
      "execution_count": 9,
      "outputs": [
        {
          "output_type": "stream",
          "name": "stdout",
          "text": [
            "root\n",
            " |-- name: string (nullable = true)\n",
            " |-- day: string (nullable = true)\n",
            " |-- month: string (nullable = true)\n",
            " |-- year: string (nullable = true)\n",
            "\n"
          ]
        }
      ]
    },
    {
      "cell_type": "code",
      "source": [
        "raw_df.show()"
      ],
      "metadata": {
        "colab": {
          "base_uri": "https://localhost:8080/"
        },
        "id": "Fu46xaBFqYRa",
        "outputId": "59f663d7-20ca-4980-a230-d6fa5a2a29cf"
      },
      "execution_count": 14,
      "outputs": [
        {
          "output_type": "stream",
          "name": "stdout",
          "text": [
            "+-----+---+-----+----+\n",
            "| name|day|month|year|\n",
            "+-----+---+-----+----+\n",
            "| John| 12|   12|   6|\n",
            "| Ravi| 28|    1|2002|\n",
            "| Rosy|  7|    8|  63|\n",
            "|Abdul| 23|    5|  81|\n",
            "|Abdul| 23|    5|  81|\n",
            "+-----+---+-----+----+\n",
            "\n"
          ]
        }
      ]
    },
    {
      "cell_type": "code",
      "source": [
        "final_df = raw_df.withColumn(\"id\", monotonically_increasing_id()) \\\n",
        "        .withColumn(\"day\", col(\"day\").cast(IntegerType())) \\\n",
        "        .withColumn(\"month\", col(\"month\").cast(IntegerType())) \\\n",
        "        .withColumn(\"year\", col(\"year\").cast(IntegerType())) \\\n",
        "        .withColumn(\"year\", when(col(\"year\") < 20, col(\"year\") + 2000)\n",
        "                    .when(col(\"year\") < 100, col(\"year\") + 1900)\n",
        "                    .otherwise(col(\"year\"))) \\\n",
        "        .withColumn(\"dob\", expr(\"to_date(concat(day,'/',month,'/',year), 'd/M/y')\")) \\\n",
        "        .drop(\"day\", \"month\", \"year\") \\\n",
        "        .dropDuplicates([\"name\", \"dob\"]) \\\n",
        "        .sort(col(\"dob\").desc())"
      ],
      "metadata": {
        "id": "pcemO4ezpcyK"
      },
      "execution_count": 11,
      "outputs": []
    },
    {
      "cell_type": "code",
      "source": [
        "final_df"
      ],
      "metadata": {
        "colab": {
          "base_uri": "https://localhost:8080/"
        },
        "id": "vpQTCz1CqDRX",
        "outputId": "85752a88-718d-402e-8d34-929133b87ae3"
      },
      "execution_count": 12,
      "outputs": [
        {
          "output_type": "execute_result",
          "data": {
            "text/plain": [
              "DataFrame[name: string, id: bigint, dob: date]"
            ]
          },
          "metadata": {},
          "execution_count": 12
        }
      ]
    },
    {
      "cell_type": "code",
      "source": [
        "final_df.show()"
      ],
      "metadata": {
        "colab": {
          "base_uri": "https://localhost:8080/"
        },
        "id": "KYVa9HplqL-a",
        "outputId": "0fb57c64-acfa-4848-df22-ec1f25fea8da"
      },
      "execution_count": 13,
      "outputs": [
        {
          "output_type": "stream",
          "name": "stdout",
          "text": [
            "+-----+-----------+----------+\n",
            "| name|         id|       dob|\n",
            "+-----+-----------+----------+\n",
            "| John|          0|2006-12-12|\n",
            "| Ravi| 8589934592|2002-01-28|\n",
            "|Abdul|17179869184|1981-05-23|\n",
            "| Rosy| 8589934593|1963-08-07|\n",
            "+-----+-----------+----------+\n",
            "\n"
          ]
        }
      ]
    },
    {
      "cell_type": "code",
      "source": [
        "import pyspark\n",
        "from pyspark.sql import SparkSession\n",
        "from pyspark.sql.functions import *\n",
        "from pyspark.sql.types import *"
      ],
      "metadata": {
        "id": "_KkQEZVGqNYl"
      },
      "execution_count": 16,
      "outputs": []
    },
    {
      "cell_type": "code",
      "source": [
        "spark = SparkSession.builder.master('local[3]').appName('MiscDemo').getOrCreate()\n",
        "\n",
        "data_list = [(\"Ravi\", \"28\", \"1\", \"2002\"),\n",
        "             (\"Abdul\", \"23\", \"5\", \"81\"), # 1981\n",
        "             (\"John\", \"12\", \"12\", \"6\"), # 2006\n",
        "             (\"Rosy\", \"7\", \"8\", \"63\"), # 1963\n",
        "             (\"Abdul\", \"23\", \"5\", \"81\") # 1981\n",
        "             ]"
      ],
      "metadata": {
        "id": "AicBIKlkwr3O"
      },
      "execution_count": 17,
      "outputs": []
    },
    {
      "cell_type": "code",
      "source": [
        "raw_df = spark.createDataFrame(data_list).toDF('name', \n",
        "                              'day', 'month', 'year').repartition(3)"
      ],
      "metadata": {
        "id": "lnR8a22AxB8H"
      },
      "execution_count": 18,
      "outputs": []
    },
    {
      "cell_type": "code",
      "source": [
        "raw_df.printSchema()"
      ],
      "metadata": {
        "colab": {
          "base_uri": "https://localhost:8080/"
        },
        "id": "PVmcsBnRxPle",
        "outputId": "2f03126f-8581-4572-a633-4cfe05eddf7c"
      },
      "execution_count": 19,
      "outputs": [
        {
          "output_type": "stream",
          "name": "stdout",
          "text": [
            "root\n",
            " |-- name: string (nullable = true)\n",
            " |-- day: string (nullable = true)\n",
            " |-- month: string (nullable = true)\n",
            " |-- year: string (nullable = true)\n",
            "\n"
          ]
        }
      ]
    },
    {
      "cell_type": "code",
      "source": [
        "raw_df.show()"
      ],
      "metadata": {
        "colab": {
          "base_uri": "https://localhost:8080/"
        },
        "id": "F90mu4dfxRwG",
        "outputId": "033a5e01-8438-4cd1-b802-706f2e4b7eba"
      },
      "execution_count": 20,
      "outputs": [
        {
          "output_type": "stream",
          "name": "stdout",
          "text": [
            "+-----+---+-----+----+\n",
            "| name|day|month|year|\n",
            "+-----+---+-----+----+\n",
            "| John| 12|   12|   6|\n",
            "| Ravi| 28|    1|2002|\n",
            "| Rosy|  7|    8|  63|\n",
            "|Abdul| 23|    5|  81|\n",
            "|Abdul| 23|    5|  81|\n",
            "+-----+---+-----+----+\n",
            "\n"
          ]
        }
      ]
    },
    {
      "cell_type": "code",
      "source": [
        "df1 = raw_df.withColumn('id', monotonically_increasing_id())\n",
        "df1.show()"
      ],
      "metadata": {
        "colab": {
          "base_uri": "https://localhost:8080/"
        },
        "id": "MI8uDdI_xTpX",
        "outputId": "855af83e-cdf7-48eb-9999-bdf9cda1b0c3"
      },
      "execution_count": 21,
      "outputs": [
        {
          "output_type": "stream",
          "name": "stdout",
          "text": [
            "+-----+---+-----+----+-----------+\n",
            "| name|day|month|year|         id|\n",
            "+-----+---+-----+----+-----------+\n",
            "| John| 12|   12|   6|          0|\n",
            "| Ravi| 28|    1|2002| 8589934592|\n",
            "| Rosy|  7|    8|  63| 8589934593|\n",
            "|Abdul| 23|    5|  81|17179869184|\n",
            "|Abdul| 23|    5|  81|17179869185|\n",
            "+-----+---+-----+----+-----------+\n",
            "\n"
          ]
        }
      ]
    },
    {
      "cell_type": "code",
      "source": [
        "df2 = df1.withColumn('year', expr(\"\"\"\n",
        "case when year < 21 then year + 2000\n",
        "when year < 100 then year + 1900\n",
        "else year\n",
        "end\n",
        "\"\"\"))\n",
        "\n",
        "df2.show()"
      ],
      "metadata": {
        "colab": {
          "base_uri": "https://localhost:8080/"
        },
        "id": "Ptf1bHtrxa4a",
        "outputId": "e97207e4-eb36-4e79-9069-80e2714d76dc"
      },
      "execution_count": 22,
      "outputs": [
        {
          "output_type": "stream",
          "name": "stdout",
          "text": [
            "+-----+---+-----+------+-----------+\n",
            "| name|day|month|  year|         id|\n",
            "+-----+---+-----+------+-----------+\n",
            "| John| 12|   12|2006.0|          0|\n",
            "| Ravi| 28|    1|  2002| 8589934592|\n",
            "| Rosy|  7|    8|1963.0| 8589934593|\n",
            "|Abdul| 23|    5|1981.0|17179869184|\n",
            "|Abdul| 23|    5|1981.0|17179869185|\n",
            "+-----+---+-----+------+-----------+\n",
            "\n"
          ]
        }
      ]
    },
    {
      "cell_type": "code",
      "source": [
        "df3 = df1.withColumn(\"year\", expr(\"\"\"\n",
        "case when year<21 then cast(year as int) + 2000\n",
        "when year < 100 then cast (year as int) + 1900\n",
        "else year\n",
        "end\"\"\"))\n",
        "\n",
        "df3.show()"
      ],
      "metadata": {
        "colab": {
          "base_uri": "https://localhost:8080/"
        },
        "id": "9tE_PjFaxsiW",
        "outputId": "106602d6-85b6-4362-c247-75d4170b7ff1"
      },
      "execution_count": 23,
      "outputs": [
        {
          "output_type": "stream",
          "name": "stdout",
          "text": [
            "+-----+---+-----+----+-----------+\n",
            "| name|day|month|year|         id|\n",
            "+-----+---+-----+----+-----------+\n",
            "| John| 12|   12|2006|          0|\n",
            "| Ravi| 28|    1|2002| 8589934592|\n",
            "| Rosy|  7|    8|1963| 8589934593|\n",
            "|Abdul| 23|    5|1981|17179869184|\n",
            "|Abdul| 23|    5|1981|17179869185|\n",
            "+-----+---+-----+----+-----------+\n",
            "\n"
          ]
        }
      ]
    },
    {
      "cell_type": "code",
      "source": [
        "df4 = df1.withColumn('year', expr(\"\"\"\n",
        "\n",
        "case when year < 21 then year + 2000\n",
        "when year < 100 then year + 1900\n",
        "else year\n",
        "end\"\"\").cast(IntegerType()))\n",
        "\n",
        "df4.show()\n",
        "df4.printSchema()"
      ],
      "metadata": {
        "colab": {
          "base_uri": "https://localhost:8080/"
        },
        "id": "bZJqPyg_yCCC",
        "outputId": "52e6d0c1-b381-4c5b-b0a3-55d2b070d652"
      },
      "execution_count": 24,
      "outputs": [
        {
          "output_type": "stream",
          "name": "stdout",
          "text": [
            "+-----+---+-----+----+-----------+\n",
            "| name|day|month|year|         id|\n",
            "+-----+---+-----+----+-----------+\n",
            "| John| 12|   12|2006|          0|\n",
            "| Ravi| 28|    1|2002| 8589934592|\n",
            "| Rosy|  7|    8|1963| 8589934593|\n",
            "|Abdul| 23|    5|1981|17179869184|\n",
            "|Abdul| 23|    5|1981|17179869185|\n",
            "+-----+---+-----+----+-----------+\n",
            "\n",
            "root\n",
            " |-- name: string (nullable = true)\n",
            " |-- day: string (nullable = true)\n",
            " |-- month: string (nullable = true)\n",
            " |-- year: integer (nullable = true)\n",
            " |-- id: long (nullable = false)\n",
            "\n"
          ]
        }
      ]
    },
    {
      "cell_type": "code",
      "source": [
        "df4 = df1.withColumn(\"year\", expr(\"\"\"\n",
        "         case when year < 21 then year + 2000\n",
        "         when year < 100 then year + 1900\n",
        "         else year\n",
        "         end\"\"\").cast(IntegerType()))\n",
        "df4.show()\n",
        "df4.printSchema()"
      ],
      "metadata": {
        "colab": {
          "base_uri": "https://localhost:8080/"
        },
        "id": "LtB45k5fyUUN",
        "outputId": "dd3debc0-d21f-4d7a-aade-9c3b39b3d30d"
      },
      "execution_count": 28,
      "outputs": [
        {
          "output_type": "stream",
          "name": "stdout",
          "text": [
            "+-----+---+-----+----+-----------+\n",
            "| name|day|month|year|         id|\n",
            "+-----+---+-----+----+-----------+\n",
            "| John| 12|   12|2006|          0|\n",
            "| Ravi| 28|    1|2002| 8589934592|\n",
            "| Rosy|  7|    8|1963| 8589934593|\n",
            "|Abdul| 23|    5|1981|17179869184|\n",
            "|Abdul| 23|    5|1981|17179869185|\n",
            "+-----+---+-----+----+-----------+\n",
            "\n",
            "root\n",
            " |-- name: string (nullable = true)\n",
            " |-- day: string (nullable = true)\n",
            " |-- month: string (nullable = true)\n",
            " |-- year: integer (nullable = true)\n",
            " |-- id: long (nullable = false)\n",
            "\n"
          ]
        }
      ]
    },
    {
      "cell_type": "code",
      "source": [
        "df5 = df1.withColumn(\"day\", col(\"day\").cast(IntegerType())) \\\n",
        "         .withColumn(\"month\", col(\"month\").cast(IntegerType())) \\\n",
        "         .withColumn(\"year\", col(\"year\").cast(IntegerType())) \n",
        "\n",
        "df6 = df5.withColumn(\"year\", expr(\"\"\"\n",
        "          case when year < 21 then year + 2000\n",
        "          when year < 100 then year + 1900\n",
        "          else year\n",
        "          end\"\"\"))\n",
        "df6.show()"
      ],
      "metadata": {
        "colab": {
          "base_uri": "https://localhost:8080/"
        },
        "id": "yff1nEAhysB3",
        "outputId": "30a08689-7621-48e5-c658-6f80b3e32792"
      },
      "execution_count": 33,
      "outputs": [
        {
          "output_type": "stream",
          "name": "stdout",
          "text": [
            "+-----+---+-----+----+-----------+\n",
            "| name|day|month|year|         id|\n",
            "+-----+---+-----+----+-----------+\n",
            "| John| 12|   12|2006|          0|\n",
            "| Ravi| 28|    1|2002| 8589934592|\n",
            "| Rosy|  7|    8|1963| 8589934593|\n",
            "|Abdul| 23|    5|1981|17179869184|\n",
            "|Abdul| 23|    5|1981|17179869185|\n",
            "+-----+---+-----+----+-----------+\n",
            "\n"
          ]
        }
      ]
    },
    {
      "cell_type": "code",
      "source": [
        "df7 = df5.withColumn(\"year\", \\\n",
        "                    when(col(\"year\") < 21, col(\"year\") + 2000) \\\n",
        "                    .when(col(\"year\") < 100, col(\"year\") + 1900) \\\n",
        "                    .otherwise(col(\"year\")))\n",
        "df7.show()"
      ],
      "metadata": {
        "colab": {
          "base_uri": "https://localhost:8080/"
        },
        "id": "QJtU5GfAzdtv",
        "outputId": "f8d9c952-8604-4e5f-b166-734edc896e90"
      },
      "execution_count": 34,
      "outputs": [
        {
          "output_type": "stream",
          "name": "stdout",
          "text": [
            "+-----+---+-----+----+-----------+\n",
            "| name|day|month|year|         id|\n",
            "+-----+---+-----+----+-----------+\n",
            "| John| 12|   12|2006|          0|\n",
            "| Ravi| 28|    1|2002| 8589934592|\n",
            "| Rosy|  7|    8|1963| 8589934593|\n",
            "|Abdul| 23|    5|1981|17179869184|\n",
            "|Abdul| 23|    5|1981|17179869185|\n",
            "+-----+---+-----+----+-----------+\n",
            "\n"
          ]
        }
      ]
    },
    {
      "cell_type": "code",
      "source": [
        ""
      ],
      "metadata": {
        "id": "AfZAQpRIzfdE"
      },
      "execution_count": null,
      "outputs": []
    }
  ]
}