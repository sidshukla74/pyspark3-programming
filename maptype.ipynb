{
  "nbformat": 4,
  "nbformat_minor": 0,
  "metadata": {
    "colab": {
      "name": "maptype.ipynb",
      "provenance": []
    },
    "kernelspec": {
      "name": "python3",
      "display_name": "Python 3"
    },
    "language_info": {
      "name": "python"
    }
  },
  "cells": [
    {
      "cell_type": "code",
      "source": [
        "!pip install pyspark"
      ],
      "metadata": {
        "colab": {
          "base_uri": "https://localhost:8080/"
        },
        "id": "NfaqPsc-fu4F",
        "outputId": "a53aa632-900c-4cbd-c971-4377a9e1a5e0"
      },
      "execution_count": 2,
      "outputs": [
        {
          "output_type": "stream",
          "name": "stdout",
          "text": [
            "Looking in indexes: https://pypi.org/simple, https://us-python.pkg.dev/colab-wheels/public/simple/\n",
            "Collecting pyspark\n",
            "  Downloading pyspark-3.3.0.tar.gz (281.3 MB)\n",
            "\u001b[K     |████████████████████████████████| 281.3 MB 37 kB/s \n",
            "\u001b[?25hCollecting py4j==0.10.9.5\n",
            "  Downloading py4j-0.10.9.5-py2.py3-none-any.whl (199 kB)\n",
            "\u001b[K     |████████████████████████████████| 199 kB 45.1 MB/s \n",
            "\u001b[?25hBuilding wheels for collected packages: pyspark\n",
            "  Building wheel for pyspark (setup.py) ... \u001b[?25l\u001b[?25hdone\n",
            "  Created wheel for pyspark: filename=pyspark-3.3.0-py2.py3-none-any.whl size=281764026 sha256=5e4f45fbbf7cb0beac34aca016f0ff69fc41c8739c12f8ecc0ad379efc33cf2a\n",
            "  Stored in directory: /root/.cache/pip/wheels/7a/8e/1b/f73a52650d2e5f337708d9f6a1750d451a7349a867f928b885\n",
            "Successfully built pyspark\n",
            "Installing collected packages: py4j, pyspark\n",
            "Successfully installed py4j-0.10.9.5 pyspark-3.3.0\n"
          ]
        }
      ]
    },
    {
      "cell_type": "markdown",
      "source": [
        "PySpark MapType (also called map type) is a data type to represent Python Dictionary (dict) to store key-value pair, a MapType object comprises three fields, keyType (a DataType), valueType (a DataType) and valueContainsNull (a BooleanType)."
      ],
      "metadata": {
        "id": "q-Z-9LIsj1Zm"
      }
    },
    {
      "cell_type": "markdown",
      "source": [
        "PySpark MapType is used to represent map key-value pair similar to python Dictionary (Dict), it extends DataType class which is a superclass of all types in PySpark and takes two mandatory arguments keyType and valueType of type DataType and one optional boolean argument valueContainsNull. keyType and valueType can be any type that extends the DataType class. for e.g StringType, IntegerType, ArrayType, MapType, StructType (struct) e.t.c"
      ],
      "metadata": {
        "id": "B5B9t5avj_TG"
      }
    },
    {
      "cell_type": "markdown",
      "source": [
        "1. Create PySpark MapType"
      ],
      "metadata": {
        "id": "4nTv7tJ1f2dQ"
      }
    },
    {
      "cell_type": "code",
      "execution_count": 4,
      "metadata": {
        "id": "bfjMwug6e45I"
      },
      "outputs": [],
      "source": [
        "from pyspark.sql.types import StringType, MapType\n",
        "mapCol = MapType(StringType(), StringType(), False)"
      ]
    },
    {
      "cell_type": "code",
      "source": [
        "mapCol"
      ],
      "metadata": {
        "colab": {
          "base_uri": "https://localhost:8080/"
        },
        "id": "FshPOn9Of8Z1",
        "outputId": "eb519e00-2437-4987-9820-1c0029d92a2f"
      },
      "execution_count": 5,
      "outputs": [
        {
          "output_type": "execute_result",
          "data": {
            "text/plain": [
              "MapType(StringType(), StringType(), False)"
            ]
          },
          "metadata": {},
          "execution_count": 5
        }
      ]
    },
    {
      "cell_type": "code",
      "source": [
        ""
      ],
      "metadata": {
        "id": "BDNm5lMFf8cW"
      },
      "execution_count": null,
      "outputs": []
    },
    {
      "cell_type": "code",
      "source": [
        "from pyspark.sql.types import StructField, StructType, StringType, MapType\n",
        "schema = StructType([StructField('name', StringType(), True),\n",
        "            StructField('properties', MapType(StringType(),\n",
        "                                              StringType()) , True)\n",
        "])\n",
        "\n"
      ],
      "metadata": {
        "id": "6vCmtivhf8fE"
      },
      "execution_count": 24,
      "outputs": []
    },
    {
      "cell_type": "code",
      "source": [
        "schema"
      ],
      "metadata": {
        "colab": {
          "base_uri": "https://localhost:8080/"
        },
        "id": "fYL8c29Of8gt",
        "outputId": "8170dfa2-9871-4bb3-fa9c-11a807af3050"
      },
      "execution_count": 7,
      "outputs": [
        {
          "output_type": "execute_result",
          "data": {
            "text/plain": [
              "StructType([StructField('name', StringType(), True), StructField('properties', MapType(StringType(), StringType(), True), True)])"
            ]
          },
          "metadata": {},
          "execution_count": 7
        }
      ]
    },
    {
      "cell_type": "code",
      "source": [
        "from pyspark.sql import SparkSession\n",
        "spark = SparkSession.builder.appName('spark').getOrCreate()\n",
        "\n",
        "datadic = [\n",
        "           ('james', {'hair':'black', 'eye':'browm'}),\n",
        "           ('james', {'hair':'black', 'eye':'browm'}),\n",
        "           ('james', {'hair':'black', 'eye':'browm'}),\n",
        "           ('james', {'hair':'black', 'eye':'browm'}),\n",
        "           ('james', {'hair':'black', 'eye':'browm'})\n",
        "           ]\n",
        "\n",
        "df  = spark.createDataFrame(data=datadic, schema=schema)\n",
        "df.printSchema()\n",
        "df.show(truncate=False)"
      ],
      "metadata": {
        "colab": {
          "base_uri": "https://localhost:8080/"
        },
        "id": "q5WpgfeSf8ib",
        "outputId": "c9be7a22-4816-4f50-c7cd-1c4da48ddae5"
      },
      "execution_count": 25,
      "outputs": [
        {
          "output_type": "stream",
          "name": "stdout",
          "text": [
            "root\n",
            " |-- name: string (nullable = true)\n",
            " |-- properties: map (nullable = true)\n",
            " |    |-- key: string\n",
            " |    |-- value: string (valueContainsNull = true)\n",
            "\n",
            "+-----+-----------------------------+\n",
            "|name |properties                   |\n",
            "+-----+-----------------------------+\n",
            "|james|{eye -> browm, hair -> black}|\n",
            "|james|{eye -> browm, hair -> black}|\n",
            "|james|{eye -> browm, hair -> black}|\n",
            "|james|{eye -> browm, hair -> black}|\n",
            "|james|{eye -> browm, hair -> black}|\n",
            "+-----+-----------------------------+\n",
            "\n"
          ]
        }
      ]
    },
    {
      "cell_type": "code",
      "source": [
        "df3 = df.rdd.map(lambda x:(x.name, x.properties['hair'], x.properties['eye'])).toDF(['name', 'hair', 'eye'])\n",
        "df3.printSchema()\n",
        "df3.show()"
      ],
      "metadata": {
        "colab": {
          "base_uri": "https://localhost:8080/"
        },
        "id": "QZ9FLunUoAii",
        "outputId": "8b11434c-47c4-49fd-aecf-31c15dd3f2f1"
      },
      "execution_count": 26,
      "outputs": [
        {
          "output_type": "stream",
          "name": "stdout",
          "text": [
            "root\n",
            " |-- name: string (nullable = true)\n",
            " |-- hair: string (nullable = true)\n",
            " |-- eye: string (nullable = true)\n",
            "\n",
            "+-----+-----+-----+\n",
            "| name| hair|  eye|\n",
            "+-----+-----+-----+\n",
            "|james|black|browm|\n",
            "|james|black|browm|\n",
            "|james|black|browm|\n",
            "|james|black|browm|\n",
            "|james|black|browm|\n",
            "+-----+-----+-----+\n",
            "\n"
          ]
        }
      ]
    },
    {
      "cell_type": "code",
      "source": [
        ""
      ],
      "metadata": {
        "id": "dzGp4Zz1oC8C"
      },
      "execution_count": null,
      "outputs": []
    },
    {
      "cell_type": "code",
      "source": [
        ""
      ],
      "metadata": {
        "id": "r7WGXPDnoDJd"
      },
      "execution_count": null,
      "outputs": []
    },
    {
      "cell_type": "code",
      "source": [
        ""
      ],
      "metadata": {
        "id": "IB02Y5zwoDOV"
      },
      "execution_count": null,
      "outputs": []
    },
    {
      "cell_type": "code",
      "source": [
        "from pyspark.sql.types import MapType\n",
        "mapcol = MapType(StringType(), StringType(), True)"
      ],
      "metadata": {
        "id": "oi9-pwD-f8kE"
      },
      "execution_count": 10,
      "outputs": []
    },
    {
      "cell_type": "code",
      "source": [
        "from pyspark.sql.types import StructField, StructType, StringType, MapType\n",
        "\n",
        "schema = StructType(\n",
        "    [StructField('game', StringType() , True),\n",
        "     StructField('properties', MapType(StringType(), StringType()), True),\n",
        "     StructField('respect', MapType(StringType(), StringType()), True)]\n",
        ")\n",
        "\n",
        "spark = SparkSession.builder.appName('king').getOrCreate()\n",
        "\n",
        "datadic = [\n",
        "           ('james', {'king':'kong', 'eye':'green'}, {'cant':'can', 'hurt':'me'}),\n",
        "           ('clar', {'live':'long', 'death':'birth'}, {'peace':'war', 'ignorance':'knowledfe'})\n",
        "            ]\n",
        "\n",
        "df  = spark.createDataFrame(data=datadic , schema=schema)\n",
        "df.printSchema()\n",
        "\n",
        "df.show(truncate=False)"
      ],
      "metadata": {
        "colab": {
          "base_uri": "https://localhost:8080/"
        },
        "id": "wEWQ_r1Pf8mg",
        "outputId": "378553fc-3538-4203-a4c1-c0753962bdef"
      },
      "execution_count": 13,
      "outputs": [
        {
          "output_type": "stream",
          "name": "stdout",
          "text": [
            "root\n",
            " |-- game: string (nullable = true)\n",
            " |-- properties: map (nullable = true)\n",
            " |    |-- key: string\n",
            " |    |-- value: string (valueContainsNull = true)\n",
            " |-- respect: map (nullable = true)\n",
            " |    |-- key: string\n",
            " |    |-- value: string (valueContainsNull = true)\n",
            "\n",
            "+-----+------------------------------+--------------------------------------+\n",
            "|game |properties                    |respect                               |\n",
            "+-----+------------------------------+--------------------------------------+\n",
            "|james|{eye -> green, king -> kong}  |{cant -> can, hurt -> me}             |\n",
            "|clar |{death -> birth, live -> long}|{ignorance -> knowledfe, peace -> war}|\n",
            "+-----+------------------------------+--------------------------------------+\n",
            "\n"
          ]
        }
      ]
    },
    {
      "cell_type": "code",
      "source": [
        "from pyspark.sql.types import StringType , IntegerType, StructType\n",
        "\n",
        "schema = StructType([StructField('my_house', StringType(), True),\n",
        "                     StructField('rooms', IntegerType(), True),\n",
        "                     StructField('area', MapType(StringType(), IntegerType(), True))\n",
        "                     \n",
        "                     \n",
        "                     ])"
      ],
      "metadata": {
        "id": "A9K_fvIBf8pM"
      },
      "execution_count": 34,
      "outputs": []
    },
    {
      "cell_type": "code",
      "source": [
        "schema"
      ],
      "metadata": {
        "colab": {
          "base_uri": "https://localhost:8080/"
        },
        "id": "-DOW8kCQf8q2",
        "outputId": "a0a34690-1b14-48ef-d75e-82d2ba9f8d62"
      },
      "execution_count": 16,
      "outputs": [
        {
          "output_type": "execute_result",
          "data": {
            "text/plain": [
              "StructType([StructField('my_house', StringType(), True), StructField('rooms', IntegerType(), True), StructField('area', StringType(), True)])"
            ]
          },
          "metadata": {},
          "execution_count": 16
        }
      ]
    },
    {
      "cell_type": "code",
      "source": [
        "from pyspark.sql import SparkSession\n",
        "spark = SparkSession.builder.appName('king').getOrCreate()\n",
        "\n",
        "data3 = [('amla', 23, {'dold':26, 'rold':34}),\n",
        "        ('bimla', 23, {'dold':21, 'rold':32}),\n",
        "        ('kamla', 23, {'dold':25, 'rold':35}),\n",
        "        \n",
        "        ] "
      ],
      "metadata": {
        "id": "3HDLejphf8se"
      },
      "execution_count": 49,
      "outputs": []
    },
    {
      "cell_type": "code",
      "source": [
        "df4 = df3.rdd.map(lambda x: (x.my_house, x.rooms)).toDF(['my_house', 'rooms'])\n",
        "df4.printSchema()"
      ],
      "metadata": {
        "colab": {
          "base_uri": "https://localhost:8080/"
        },
        "id": "PV-ONShboig_",
        "outputId": "2684c3b9-38be-45ff-d258-3b14347e6171"
      },
      "execution_count": 50,
      "outputs": [
        {
          "output_type": "stream",
          "name": "stdout",
          "text": [
            "root\n",
            " |-- my_house: string (nullable = true)\n",
            " |-- rooms: long (nullable = true)\n",
            "\n"
          ]
        }
      ]
    },
    {
      "cell_type": "code",
      "source": [
        "df4.show()"
      ],
      "metadata": {
        "colab": {
          "base_uri": "https://localhost:8080/"
        },
        "id": "1JjCkYTBpUuU",
        "outputId": "e340cf67-df32-432c-f171-68e1e4b1a4d1"
      },
      "execution_count": 51,
      "outputs": [
        {
          "output_type": "stream",
          "name": "stdout",
          "text": [
            "+--------+-----+\n",
            "|my_house|rooms|\n",
            "+--------+-----+\n",
            "|    amla|   23|\n",
            "|   bimla|   23|\n",
            "|   kamla|   23|\n",
            "+--------+-----+\n",
            "\n"
          ]
        }
      ]
    },
    {
      "cell_type": "code",
      "source": [
        "df5 = df3.rdd.map(lambda x:(x.my_house, x.rooms, x.area['dold'],x.area['rold'] )).toDF(['my_house', 'rooms', 'area'])"
      ],
      "metadata": {
        "id": "RXKw5JxWpUxv"
      },
      "execution_count": 58,
      "outputs": []
    },
    {
      "cell_type": "markdown",
      "source": [
        ""
      ],
      "metadata": {
        "id": "EjfOAEliqlF-"
      }
    },
    {
      "cell_type": "code",
      "source": [
        "df5.show()"
      ],
      "metadata": {
        "colab": {
          "base_uri": "https://localhost:8080/",
          "height": 165
        },
        "id": "VZDF2xWrpU0r",
        "outputId": "8c1fff75-5e0f-4b87-ee02-dfde9554fef4"
      },
      "execution_count": 46,
      "outputs": [
        {
          "output_type": "error",
          "ename": "AttributeError",
          "evalue": "ignored",
          "traceback": [
            "\u001b[0;31m---------------------------------------------------------------------------\u001b[0m",
            "\u001b[0;31mAttributeError\u001b[0m                            Traceback (most recent call last)",
            "\u001b[0;32m<ipython-input-46-5b991a58aebe>\u001b[0m in \u001b[0;36m<module>\u001b[0;34m()\u001b[0m\n\u001b[0;32m----> 1\u001b[0;31m \u001b[0mdf5\u001b[0m\u001b[0;34m.\u001b[0m\u001b[0mshow\u001b[0m\u001b[0;34m(\u001b[0m\u001b[0;34m)\u001b[0m\u001b[0;34m\u001b[0m\u001b[0;34m\u001b[0m\u001b[0m\n\u001b[0m",
            "\u001b[0;31mAttributeError\u001b[0m: 'PipelinedRDD' object has no attribute 'show'"
          ]
        }
      ]
    },
    {
      "cell_type": "code",
      "source": [
        "data3"
      ],
      "metadata": {
        "colab": {
          "base_uri": "https://localhost:8080/"
        },
        "id": "oxNQ9FwcfpgQ",
        "outputId": "1eb84fb1-5858-45fa-f01e-9ea0198ae850"
      },
      "execution_count": 56,
      "outputs": [
        {
          "output_type": "execute_result",
          "data": {
            "text/plain": [
              "[('amla', 23, {'dold': 26, 'rold': 34}),\n",
              " ('bimla', 23, {'dold': 21, 'rold': 32}),\n",
              " ('kamla', 23, {'dold': 25, 'rold': 35})]"
            ]
          },
          "metadata": {},
          "execution_count": 56
        }
      ]
    },
    {
      "cell_type": "code",
      "source": [
        "df3 = spark.createDataFrame(data3 , schema=schema)\n",
        "df3.printSchema()\n",
        "df3.show(truncate=False)"
      ],
      "metadata": {
        "colab": {
          "base_uri": "https://localhost:8080/"
        },
        "id": "cAiA0NFqnejx",
        "outputId": "ae85a777-ecb7-44f8-a5df-3c57fc5182cc"
      },
      "execution_count": 57,
      "outputs": [
        {
          "output_type": "stream",
          "name": "stdout",
          "text": [
            "root\n",
            " |-- my_house: string (nullable = true)\n",
            " |-- rooms: integer (nullable = true)\n",
            " |-- area: map (nullable = true)\n",
            " |    |-- key: string\n",
            " |    |-- value: integer (valueContainsNull = true)\n",
            "\n",
            "+--------+-----+------------------------+\n",
            "|my_house|rooms|area                    |\n",
            "+--------+-----+------------------------+\n",
            "|amla    |23   |{rold -> 34, dold -> 26}|\n",
            "|bimla   |23   |{rold -> 32, dold -> 21}|\n",
            "|kamla   |23   |{rold -> 35, dold -> 25}|\n",
            "+--------+-----+------------------------+\n",
            "\n"
          ]
        }
      ]
    },
    {
      "cell_type": "markdown",
      "source": [
        "3. Access PySpark MapType Elements\n",
        "Let’s see how to extract the key and values from the PySpark DataFrame Dictionary column. Here I have used PySpark map transformation to read the values of properties (MapType column)"
      ],
      "metadata": {
        "id": "QaTR0y2knzzb"
      }
    },
    {
      "cell_type": "code",
      "source": [
        "df4.show()"
      ],
      "metadata": {
        "colab": {
          "base_uri": "https://localhost:8080/"
        },
        "id": "M2ITzTVJnoqD",
        "outputId": "2afed9b5-8e92-4ece-d2a5-535ae7a39ca1"
      },
      "execution_count": 59,
      "outputs": [
        {
          "output_type": "stream",
          "name": "stdout",
          "text": [
            "+--------+-----+\n",
            "|my_house|rooms|\n",
            "+--------+-----+\n",
            "|    amla|   23|\n",
            "|   bimla|   23|\n",
            "|   kamla|   23|\n",
            "+--------+-----+\n",
            "\n"
          ]
        }
      ]
    },
    {
      "cell_type": "code",
      "source": [
        "df5.show()"
      ],
      "metadata": {
        "colab": {
          "base_uri": "https://localhost:8080/"
        },
        "id": "Q_UKzWKPsDm7",
        "outputId": "144b9cad-d8ba-4331-87cd-cd0b0f5b78f6"
      },
      "execution_count": 60,
      "outputs": [
        {
          "output_type": "stream",
          "name": "stdout",
          "text": [
            "+--------+-----+----+---+\n",
            "|my_house|rooms|area| _4|\n",
            "+--------+-----+----+---+\n",
            "|    amla|   23|  26| 34|\n",
            "|   bimla|   23|  21| 32|\n",
            "|   kamla|   23|  25| 35|\n",
            "+--------+-----+----+---+\n",
            "\n"
          ]
        }
      ]
    },
    {
      "cell_type": "code",
      "source": [
        "df3.withColumn('rold', df3.area.getItem('rold'))\\\n",
        ".withColumn('dold', df3.area.getItem('dold')).show(truncate=False)"
      ],
      "metadata": {
        "colab": {
          "base_uri": "https://localhost:8080/"
        },
        "id": "BUXh7QKHsHHa",
        "outputId": "9e9fc949-2778-40e6-b28c-84ce6b5dc56c"
      },
      "execution_count": 62,
      "outputs": [
        {
          "output_type": "stream",
          "name": "stdout",
          "text": [
            "+--------+-----+------------------------+----+----+\n",
            "|my_house|rooms|area                    |rold|dold|\n",
            "+--------+-----+------------------------+----+----+\n",
            "|amla    |23   |{rold -> 34, dold -> 26}|34  |26  |\n",
            "|bimla   |23   |{rold -> 32, dold -> 21}|32  |21  |\n",
            "|kamla   |23   |{rold -> 35, dold -> 25}|35  |25  |\n",
            "+--------+-----+------------------------+----+----+\n",
            "\n"
          ]
        }
      ]
    },
    {
      "cell_type": "code",
      "source": [
        "df3.withColumn('rold', df3.area['rold'])\\\n",
        ".withColumn('dold', df3.area['dold']).show(truncate=False)"
      ],
      "metadata": {
        "colab": {
          "base_uri": "https://localhost:8080/"
        },
        "id": "3jXAQxKyyX7P",
        "outputId": "fe10f1c8-bd2a-4b27-929a-35b72c743663"
      },
      "execution_count": 64,
      "outputs": [
        {
          "output_type": "stream",
          "name": "stdout",
          "text": [
            "+--------+-----+------------------------+----+----+\n",
            "|my_house|rooms|area                    |rold|dold|\n",
            "+--------+-----+------------------------+----+----+\n",
            "|amla    |23   |{rold -> 34, dold -> 26}|34  |26  |\n",
            "|bimla   |23   |{rold -> 32, dold -> 21}|32  |21  |\n",
            "|kamla   |23   |{rold -> 35, dold -> 25}|35  |25  |\n",
            "+--------+-----+------------------------+----+----+\n",
            "\n"
          ]
        }
      ]
    },
    {
      "cell_type": "code",
      "source": [
        "from pyspark.sql.functions import explode\n",
        "df.select(df.name, explode(df.properties)).show()"
      ],
      "metadata": {
        "colab": {
          "base_uri": "https://localhost:8080/"
        },
        "id": "jL06ftJtypQA",
        "outputId": "fe585924-aa14-4364-9865-6f80fa92c663"
      },
      "execution_count": 65,
      "outputs": [
        {
          "output_type": "stream",
          "name": "stdout",
          "text": [
            "+-----+----+-----+\n",
            "| name| key|value|\n",
            "+-----+----+-----+\n",
            "|james| eye|browm|\n",
            "|james|hair|black|\n",
            "|james| eye|browm|\n",
            "|james|hair|black|\n",
            "|james| eye|browm|\n",
            "|james|hair|black|\n",
            "|james| eye|browm|\n",
            "|james|hair|black|\n",
            "|james| eye|browm|\n",
            "|james|hair|black|\n",
            "+-----+----+-----+\n",
            "\n"
          ]
        }
      ]
    },
    {
      "cell_type": "code",
      "source": [
        "df3.select(df3.my_house, explode(df3.area)).show()"
      ],
      "metadata": {
        "colab": {
          "base_uri": "https://localhost:8080/"
        },
        "id": "NYLTMSu-y55D",
        "outputId": "063fa101-39dd-42fc-b544-a39a7a31ce94"
      },
      "execution_count": 68,
      "outputs": [
        {
          "output_type": "stream",
          "name": "stdout",
          "text": [
            "+--------+----+-----+\n",
            "|my_house| key|value|\n",
            "+--------+----+-----+\n",
            "|    amla|rold|   34|\n",
            "|    amla|dold|   26|\n",
            "|   bimla|rold|   32|\n",
            "|   bimla|dold|   21|\n",
            "|   kamla|rold|   35|\n",
            "|   kamla|dold|   25|\n",
            "+--------+----+-----+\n",
            "\n"
          ]
        }
      ]
    },
    {
      "cell_type": "code",
      "source": [
        "from pyspark.sql.functions import map_keys\n",
        "df.select(df.name, map_keys(df.properties)).show()"
      ],
      "metadata": {
        "colab": {
          "base_uri": "https://localhost:8080/"
        },
        "id": "2l2-6Ro8zFTD",
        "outputId": "eefd5ec7-32c3-46f4-f1cd-5aa853143aa6"
      },
      "execution_count": 69,
      "outputs": [
        {
          "output_type": "stream",
          "name": "stdout",
          "text": [
            "+-----+--------------------+\n",
            "| name|map_keys(properties)|\n",
            "+-----+--------------------+\n",
            "|james|         [eye, hair]|\n",
            "|james|         [eye, hair]|\n",
            "|james|         [eye, hair]|\n",
            "|james|         [eye, hair]|\n",
            "|james|         [eye, hair]|\n",
            "+-----+--------------------+\n",
            "\n"
          ]
        }
      ]
    },
    {
      "cell_type": "code",
      "source": [
        "df3.select(df3.my_house, map_keys(df3.area)).show()"
      ],
      "metadata": {
        "colab": {
          "base_uri": "https://localhost:8080/"
        },
        "id": "UKIqL75CzTh8",
        "outputId": "c048e658-2820-4a71-e06c-939c2e7946fd"
      },
      "execution_count": 73,
      "outputs": [
        {
          "output_type": "stream",
          "name": "stdout",
          "text": [
            "+--------+--------------+\n",
            "|my_house|map_keys(area)|\n",
            "+--------+--------------+\n",
            "|    amla|  [rold, dold]|\n",
            "|   bimla|  [rold, dold]|\n",
            "|   kamla|  [rold, dold]|\n",
            "+--------+--------------+\n",
            "\n"
          ]
        }
      ]
    },
    {
      "cell_type": "code",
      "source": [
        "from pyspark.sql.functions import map_values\n",
        "df.select(df.name, map_values(df.properties)).show()"
      ],
      "metadata": {
        "colab": {
          "base_uri": "https://localhost:8080/"
        },
        "id": "NQCkQqPWzaTZ",
        "outputId": "58290cb1-b659-44b3-9c46-b31e46c17d8b"
      },
      "execution_count": 74,
      "outputs": [
        {
          "output_type": "stream",
          "name": "stdout",
          "text": [
            "+-----+----------------------+\n",
            "| name|map_values(properties)|\n",
            "+-----+----------------------+\n",
            "|james|        [browm, black]|\n",
            "|james|        [browm, black]|\n",
            "|james|        [browm, black]|\n",
            "|james|        [browm, black]|\n",
            "|james|        [browm, black]|\n",
            "+-----+----------------------+\n",
            "\n"
          ]
        }
      ]
    },
    {
      "cell_type": "code",
      "source": [
        "df3.select(df3.my_house, map_values(df3.area)).show()"
      ],
      "metadata": {
        "colab": {
          "base_uri": "https://localhost:8080/"
        },
        "id": "uK2XFDe8ztA6",
        "outputId": "6fea56e8-7b2d-482c-b160-e48d5a6dc9d6"
      },
      "execution_count": 76,
      "outputs": [
        {
          "output_type": "stream",
          "name": "stdout",
          "text": [
            "+--------+----------------+\n",
            "|my_house|map_values(area)|\n",
            "+--------+----------------+\n",
            "|    amla|        [34, 26]|\n",
            "|   bimla|        [32, 21]|\n",
            "|   kamla|        [35, 25]|\n",
            "+--------+----------------+\n",
            "\n"
          ]
        }
      ]
    },
    {
      "cell_type": "code",
      "source": [
        ""
      ],
      "metadata": {
        "id": "uACEuz3CzxeS"
      },
      "execution_count": null,
      "outputs": []
    }
  ]
}